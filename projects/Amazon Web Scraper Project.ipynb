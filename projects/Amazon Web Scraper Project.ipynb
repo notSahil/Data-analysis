{
 "cells": [
  {
   "cell_type": "code",
   "execution_count": 8,
   "id": "a47ef682",
   "metadata": {},
   "outputs": [],
   "source": [
    "# import libraries \n",
    "\n",
    "from bs4 import BeautifulSoup\n",
    "import requests\n",
    "import time\n",
    "import datetime\n",
    "\n",
    "import smtplib\n"
   ]
  },
  {
   "cell_type": "code",
   "execution_count": 9,
   "id": "170d99a8",
   "metadata": {},
   "outputs": [],
   "source": [
    "# Connect to Website and pull in data\n",
    "URL = \"https://www.amazon.in/dp/B091GDFM2W/ref=redir_mobile_desktop?_encoding=UTF8&psc=1&ref_=ppx_yo_mob_b_track_package_o0_img\"\n",
    "headers= {\"User-Agent\": \"Mozilla/5.0 (Windows NT 10.0; Win64; x64) AppleWebKit/537.36 (KHTML, like Gecko) Chrome/101.0.4951.41 Safari/537.36 \",\n",
    "          \"Accept-Encoding\": \"gzip, deflate, br\",\n",
    "          \"Accept\": \"text/html,application/xhtml+xml,application/xml;q=0.9,image/avif,image/webp,image/apng,*/*;q=0.8,application/signed-exchange;v=b3;q=0.9\",\n",
    "          \"DNT\":\"1\",\n",
    "          \"Connection\":\"close\",\n",
    "          \"Upgrade-Insecure-Requests\":\"1\"}\n",
    "    \n",
    "#get the Header from https://httpbin.org/get\n",
    "# headers = {\"User-Agent\": \"Mozilla/5.0 (Windows NT 10.0; Win64; x64) AppleWebKit/537.36 (KHTML, like Gecko) Chrome/78.0.3904.108 Safari/537.36\", \"Accept-Encoding\":\"gzip, deflate\", \"Accept\":\"text/html,application/xhtml+xml,application/xml;q=0.9,*/*;q=0.8\", \"DNT\":\"1\",\"Connection\":\"close\", \"Upgrade-Insecure-Requests\":\"1\"}\n",
    "\n",
    "page = requests.get(URL, headers = headers)\n",
    "soup1 = BeautifulSoup(page.content, 'html.parser')\n",
    "soup2 = BeautifulSoup(soup1.prettify(), 'html.parser')\n"
   ]
  },
  {
   "cell_type": "code",
   "execution_count": 10,
   "id": "00682e0d",
   "metadata": {},
   "outputs": [],
   "source": [
    "#print(soup2)"
   ]
  },
  {
   "cell_type": "code",
   "execution_count": 11,
   "id": "d5ce4e2e",
   "metadata": {},
   "outputs": [
    {
     "name": "stdout",
     "output_type": "stream",
     "text": [
      "₹2,499.00₹2,499.00\n",
      "₹2,499.00₹2,499.00\n",
      "Start: 0, End: 9\n",
      "2499\n"
     ]
    }
   ],
   "source": [
    "title = soup2.find(id=\"productTitle\").get_text()\n",
    "title= title.strip()\n",
    "#print(title)\n",
    "price = soup2.find(id=\"corePriceDisplay_desktop_feature_div\").get_text()\n",
    "price=price.replace(\" \", \"\")\n",
    "price=price.replace(\"\\n\", \"\")\n",
    "print(price)\n",
    "\n",
    "\n",
    "#price = price.split('₹')\n",
    "#price = list(price)\n",
    "print(price)\n",
    "\n",
    "#new method to get the price\n",
    "start = price.index('₹')\n",
    "end = price.index('₹',start+1)\n",
    "\n",
    "price = price[start+1:end]\n",
    "print(f\"Start: {start}, End: {end}\")\n",
    "price = price.replace(',','')\n",
    "price= float(price)\n",
    "price = int(price)\n",
    "\n",
    "#price= '₹'+price\n",
    "print(price)"
   ]
  },
  {
   "cell_type": "code",
   "execution_count": 12,
   "id": "1043f43f",
   "metadata": {},
   "outputs": [
    {
     "name": "stdout",
     "output_type": "stream",
     "text": [
      "3.9outof5stars12,079ratings\n",
      "3.9\n",
      "12079\n"
     ]
    }
   ],
   "source": [
    "#rating\n",
    "rating = soup2.find(id=\"averageCustomerReviews_feature_div\").get_text()\n",
    "\n",
    "#print(rating)\n",
    "rating=rating.replace(\" \", \"\")\n",
    "rating=rating.replace(\"\\n\", \"\")\n",
    "print(rating)\n",
    "start = rating.index('rs')\n",
    "end = rating.index('ratings',start+1)\n",
    "\n",
    "totalrating = rating[start+1:end]\n",
    "totalrating = totalrating[1:]\n",
    "totalrating = totalrating.replace(',','')\n",
    "#totalrating = rating[]\n",
    "rating= rating[:3]\n",
    "rating = float(rating)\n",
    "totalrating= int(totalrating)\n",
    "print(rating)\n",
    "print(totalrating)\n"
   ]
  },
  {
   "cell_type": "code",
   "execution_count": 13,
   "id": "3ac521bd",
   "metadata": {},
   "outputs": [
    {
     "data": {
      "text/plain": [
       "['realme Buds Q2 Bluetooth Truly Wireless in Ear Earbuds with Mic (Active Black)',\n",
       " 2499,\n",
       " datetime.date(2022, 4, 30),\n",
       " 3.9,\n",
       " 12079]"
      ]
     },
     "execution_count": 13,
     "metadata": {},
     "output_type": "execute_result"
    }
   ],
   "source": [
    "import csv\n",
    "import pandas as pd\n",
    "import datetime\n",
    "today = datetime.date.today()\n",
    "\n",
    "header = ['Title', 'Price', 'Date','Rating', 'Total Review']\n",
    "data = [title, price, today, rating, totalrating]\n",
    "type(data)\n",
    "data"
   ]
  },
  {
   "cell_type": "markdown",
   "id": "d5b7ca55",
   "metadata": {},
   "source": [
    "Create Csv"
   ]
  },
  {
   "cell_type": "code",
   "execution_count": 14,
   "id": "16feb59e",
   "metadata": {},
   "outputs": [],
   "source": [
    "with open('AmazonWebScraperDatasetf.csv', 'w',newline='',encoding ='UTF8') as f:\n",
    "    writer = csv.writer(f)\n",
    "    writer.writerow(header)\n",
    "    writer.writerow(data)\n",
    "#if error come close the Csv file, if its open in other app"
   ]
  },
  {
   "cell_type": "markdown",
   "id": "1eb59c6f",
   "metadata": {},
   "source": [
    "somthing\n"
   ]
  },
  {
   "cell_type": "code",
   "execution_count": 15,
   "id": "96f7d5a6",
   "metadata": {},
   "outputs": [
    {
     "data": {
      "text/html": [
       "<div>\n",
       "<style scoped>\n",
       "    .dataframe tbody tr th:only-of-type {\n",
       "        vertical-align: middle;\n",
       "    }\n",
       "\n",
       "    .dataframe tbody tr th {\n",
       "        vertical-align: top;\n",
       "    }\n",
       "\n",
       "    .dataframe thead th {\n",
       "        text-align: right;\n",
       "    }\n",
       "</style>\n",
       "<table border=\"1\" class=\"dataframe\">\n",
       "  <thead>\n",
       "    <tr style=\"text-align: right;\">\n",
       "      <th></th>\n",
       "      <th>Title</th>\n",
       "      <th>Price</th>\n",
       "      <th>Date</th>\n",
       "      <th>Rating</th>\n",
       "      <th>Total Review</th>\n",
       "    </tr>\n",
       "  </thead>\n",
       "  <tbody>\n",
       "    <tr>\n",
       "      <th>0</th>\n",
       "      <td>realme Buds Q2 Bluetooth Truly Wireless in Ear...</td>\n",
       "      <td>2499</td>\n",
       "      <td>2022-04-30</td>\n",
       "      <td>3.9</td>\n",
       "      <td>12079</td>\n",
       "    </tr>\n",
       "  </tbody>\n",
       "</table>\n",
       "</div>"
      ],
      "text/plain": [
       "                                               Title  Price        Date  \\\n",
       "0  realme Buds Q2 Bluetooth Truly Wireless in Ear...   2499  2022-04-30   \n",
       "\n",
       "   Rating  Total Review  \n",
       "0     3.9         12079  "
      ]
     },
     "execution_count": 15,
     "metadata": {},
     "output_type": "execute_result"
    }
   ],
   "source": [
    "df = pd.read_csv(r'C:\\Users\\SAHIL\\Documents\\myWork\\DataAnalyticsProjects\\AmazonWebScraperDatasetf.csv')\n",
    "df"
   ]
  },
  {
   "cell_type": "markdown",
   "id": "3944d101",
   "metadata": {},
   "source": [
    "#Combine all the code together"
   ]
  },
  {
   "cell_type": "code",
   "execution_count": 16,
   "id": "a2b1ffd7",
   "metadata": {},
   "outputs": [],
   "source": [
    "#Combine all of the above code into one function\n",
    "\n",
    "import csv \n",
    "import datetime\n",
    "def check_price():\n",
    "    URL = \"https://www.amazon.in/dp/B091GDFM2W/ref=redir_mobile_desktop?_encoding=UTF8&psc=1&ref_=ppx_yo_mob_b_track_package_o0_img\"\n",
    "\n",
    "    headers= {\"User-Agent\": \"Mozilla/5.0 (Windows NT 10.0; Win64; x64) AppleWebKit/537.36 (KHTML, like Gecko) Chrome/101.0.4951.41 Safari/537.36 \",\n",
    "          \"Accept-Encoding\": \"gzip, deflate, br\",\n",
    "          \"Accept\": \"text/html,application/xhtml+xml,application/xml;q=0.9,image/avif,image/webp,image/apng,*/*;q=0.8,application/signed-exchange;v=b3;q=0.9\",\n",
    "          \"DNT\":\"1\",\n",
    "          \"Connection\":\"close\",\n",
    "          \"Upgrade-Insecure-Requests\":\"1\"}\n",
    "    \n",
    "    page = requests.get(URL, headers=headers)\n",
    "\n",
    "    soup1 = BeautifulSoup(page.content, \"html.parser\")\n",
    "\n",
    "    soup2 = BeautifulSoup(soup1.prettify(), \"html.parser\")\n",
    "\n",
    "    title = soup2.find(id='productTitle').get_text()\n",
    "\n",
    "    price = soup2.find(id=\"corePriceDisplay_desktop_feature_div\").get_text()\n",
    "    price=price.replace(\" \", \"\")\n",
    "    price=price.replace(\"\\n\", \"\")\n",
    "    start = price.index('₹')\n",
    "    end = price.index('₹',start+1)\n",
    "\n",
    "    price = price[start+1:end]\n",
    "    \n",
    "    #print(f\"Start: {start}, End: {end}\")\n",
    "    price = price.replace(',','')\n",
    "    price= float(price)\n",
    "    #rating\n",
    "    rating = soup2.find(id=\"averageCustomerReviews_feature_div\").get_text()\n",
    "\n",
    "    #print(rating)\n",
    "    rating=rating.replace(\" \", \"\")\n",
    "    rating=rating.replace(\"\\n\", \"\")\n",
    "    #print(rating)\n",
    "    start = rating.index('rs')\n",
    "    end = rating.index('ratings',start+1)\n",
    "\n",
    "    totalrating = rating[start+1:end]\n",
    "    totalrating = totalrating[1:]\n",
    "    totalrating = totalrating.replace(',','')\n",
    "    #totalrating = rating[]\n",
    "    rating= rating[:3]\n",
    "    \n",
    "    rating = float(rating)\n",
    "    totalrating= int(totalrating)\n",
    "    price = int(price)\n",
    "    title = title.strip()\n",
    "\n",
    "    \n",
    "\n",
    "    today = datetime.date.today()\n",
    "    \n",
    "    \n",
    "\n",
    "    header = ['Title', 'Price', 'Date','Rating', 'Total Review']\n",
    "    data = [title, price, today, rating, totalrating]\n",
    "\n",
    "    with open('AmazonWebScraperDatasetf.csv', 'a+', newline='', encoding='UTF8') as f:\n",
    "        writer = csv.writer(f)\n",
    "        writer.writerow(data)\n",
    "        "
   ]
  },
  {
   "cell_type": "code",
   "execution_count": 17,
   "id": "84e2f7de",
   "metadata": {},
   "outputs": [
    {
     "name": "stdout",
     "output_type": "stream",
     "text": [
      "execute\n"
     ]
    }
   ],
   "source": [
    "#creating the data\n",
    "check_price()\n",
    "print(\"execute\")"
   ]
  },
  {
   "cell_type": "code",
   "execution_count": 18,
   "id": "484fbaec",
   "metadata": {},
   "outputs": [],
   "source": [
    "# Runs check_price after a set time and inputs data into your CSV\n",
    "\n",
    "# while(True):\n",
    "#     check_price()\n",
    "#     time.sleep(86400)"
   ]
  },
  {
   "cell_type": "code",
   "execution_count": 19,
   "id": "7dae326e",
   "metadata": {},
   "outputs": [
    {
     "data": {
      "text/html": [
       "<div>\n",
       "<style scoped>\n",
       "    .dataframe tbody tr th:only-of-type {\n",
       "        vertical-align: middle;\n",
       "    }\n",
       "\n",
       "    .dataframe tbody tr th {\n",
       "        vertical-align: top;\n",
       "    }\n",
       "\n",
       "    .dataframe thead th {\n",
       "        text-align: right;\n",
       "    }\n",
       "</style>\n",
       "<table border=\"1\" class=\"dataframe\">\n",
       "  <thead>\n",
       "    <tr style=\"text-align: right;\">\n",
       "      <th></th>\n",
       "      <th>Title</th>\n",
       "      <th>Price</th>\n",
       "      <th>Date</th>\n",
       "      <th>Rating</th>\n",
       "      <th>Total Review</th>\n",
       "    </tr>\n",
       "  </thead>\n",
       "  <tbody>\n",
       "    <tr>\n",
       "      <th>0</th>\n",
       "      <td>realme Buds Q2 Bluetooth Truly Wireless in Ear...</td>\n",
       "      <td>2499</td>\n",
       "      <td>2022-04-30</td>\n",
       "      <td>3.9</td>\n",
       "      <td>12079</td>\n",
       "    </tr>\n",
       "    <tr>\n",
       "      <th>1</th>\n",
       "      <td>realme Buds Q2 Bluetooth Truly Wireless in Ear...</td>\n",
       "      <td>2499</td>\n",
       "      <td>2022-04-30</td>\n",
       "      <td>3.9</td>\n",
       "      <td>12079</td>\n",
       "    </tr>\n",
       "  </tbody>\n",
       "</table>\n",
       "</div>"
      ],
      "text/plain": [
       "                                               Title  Price        Date  \\\n",
       "0  realme Buds Q2 Bluetooth Truly Wireless in Ear...   2499  2022-04-30   \n",
       "1  realme Buds Q2 Bluetooth Truly Wireless in Ear...   2499  2022-04-30   \n",
       "\n",
       "   Rating  Total Review  \n",
       "0     3.9         12079  \n",
       "1     3.9         12079  "
      ]
     },
     "execution_count": 19,
     "metadata": {},
     "output_type": "execute_result"
    }
   ],
   "source": [
    "import pandas as pd\n",
    "df = pd.read_csv(r'C:\\Users\\SAHIL\\Documents\\myWork\\DataAnalyticsProjects\\AmazonWebScraperDatasetf.csv')\n",
    "df\n"
   ]
  },
  {
   "cell_type": "markdown",
   "id": "1bbf5d57",
   "metadata": {},
   "source": [
    "Sending the mail"
   ]
  },
  {
   "cell_type": "code",
   "execution_count": 20,
   "id": "39c525b4",
   "metadata": {},
   "outputs": [
    {
     "name": "stdout",
     "output_type": "stream",
     "text": [
      "Sahil, This is the moment we have been waiting for. Now is your chance to pick your \u001b[1mrealme Buds Q2 Bluetooth Truly Wireless in Ear Earbuds with Mic (Active Black)\u001b[0;0m. Don't mess it up! Link here: https://www.amazon.in/dp/B091GDFM2W/ref=redir_mobile_desktop?_encoding=UTF8&psc=1&ref_=ppx_yo_mob_b_track_package_o0_img\n"
     ]
    }
   ],
   "source": [
    "bold = \"\\033[1m\"\n",
    "normal = \"\\033[0;0m\"\n",
    "body = \"Sahil, This is the moment we have been waiting for. Now is your chance to pick your \"+ bold + title+normal+ \". Don't mess it up! Link here: \"+ URL \n",
    "print(body)"
   ]
  },
  {
   "cell_type": "code",
   "execution_count": 43,
   "id": "aafe714f",
   "metadata": {},
   "outputs": [],
   "source": [
    "def send_mail():\n",
    "    server = smtplib.SMTP_SSL('smtp.gmail.com',465)\n",
    "    server.ehlo()\n",
    "    #server.starttls()\n",
    "    server.ehlo()\n",
    "    server.login('yourgmail@','gmailpass')\n",
    "    \n",
    "    subject = \"The Project you want is below Rs 2100! Now is your chance to buy!\"\n",
    "    bold = \"\\033[1m\"\n",
    "    normal = \"\\033[0;0m\"\n",
    "    body = \"Sahil, This is the moment we have been waiting for. Now is your chance to pick your \"+ bold + title+normal+ \". Don't mess it up! Link here: \"+ URL    \n",
    "    msg = f\"Subject: {subject}\\n\\n{body}\"\n",
    "    \n",
    "    server.sendmail('sendergmail',\n",
    "        'recievergmail',msg)\n",
    "#     server.send_message('this is mesh','bdeal1132@gmail.com',\n",
    "#         'virat55sa@gmail.com'\n",
    "#      )"
   ]
  },
  {
   "cell_type": "code",
   "execution_count": 44,
   "id": "f9e163b5",
   "metadata": {},
   "outputs": [],
   "source": [
    "#send the mail\n",
    "if price<2100:\n",
    "    send_mail()\n",
    "    \n"
   ]
  },
  {
   "cell_type": "code",
   "execution_count": null,
   "id": "34d39ac7",
   "metadata": {},
   "outputs": [],
   "source": []
  }
 ],
 "metadata": {
  "kernelspec": {
   "display_name": "Python 3 (ipykernel)",
   "language": "python",
   "name": "python3"
  },
  "language_info": {
   "codemirror_mode": {
    "name": "ipython",
    "version": 3
   },
   "file_extension": ".py",
   "mimetype": "text/x-python",
   "name": "python",
   "nbconvert_exporter": "python",
   "pygments_lexer": "ipython3",
   "version": "3.9.7"
  }
 },
 "nbformat": 4,
 "nbformat_minor": 5
}
